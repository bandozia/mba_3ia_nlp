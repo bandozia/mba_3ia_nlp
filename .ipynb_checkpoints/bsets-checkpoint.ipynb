{
 "cells": [
  {
   "cell_type": "code",
   "execution_count": 1,
   "metadata": {},
   "outputs": [],
   "source": [
    "import pandas as pd\n",
    "import numpy as np\n",
    "import re\n",
    "from sklearn.feature_extraction.text import CountVectorizer"
   ]
  },
  {
   "cell_type": "markdown",
   "metadata": {},
   "source": [
    "## Implementação do algoritimo Bayesian Sets e consulta com 7 queries (1 e 2)"
   ]
  },
  {
   "cell_type": "markdown",
   "metadata": {},
   "source": [
    "#### Carregar e tratar os dados"
   ]
  },
  {
   "cell_type": "code",
   "execution_count": 2,
   "metadata": {},
   "outputs": [
    {
     "data": {
      "text/html": [
       "<div>\n",
       "<style scoped>\n",
       "    .dataframe tbody tr th:only-of-type {\n",
       "        vertical-align: middle;\n",
       "    }\n",
       "\n",
       "    .dataframe tbody tr th {\n",
       "        vertical-align: top;\n",
       "    }\n",
       "\n",
       "    .dataframe thead th {\n",
       "        text-align: right;\n",
       "    }\n",
       "</style>\n",
       "<table border=\"1\" class=\"dataframe\">\n",
       "  <thead>\n",
       "    <tr style=\"text-align: right;\">\n",
       "      <th></th>\n",
       "      <th>movieId</th>\n",
       "      <th>title</th>\n",
       "      <th>genres</th>\n",
       "    </tr>\n",
       "  </thead>\n",
       "  <tbody>\n",
       "    <tr>\n",
       "      <th>0</th>\n",
       "      <td>1</td>\n",
       "      <td>Toy Story</td>\n",
       "      <td>Adventure|Animation|Children|Comedy|Fantasy</td>\n",
       "    </tr>\n",
       "    <tr>\n",
       "      <th>1</th>\n",
       "      <td>2</td>\n",
       "      <td>Jumanji</td>\n",
       "      <td>Adventure|Children|Fantasy</td>\n",
       "    </tr>\n",
       "    <tr>\n",
       "      <th>2</th>\n",
       "      <td>3</td>\n",
       "      <td>Grumpier Old Men</td>\n",
       "      <td>Comedy|Romance</td>\n",
       "    </tr>\n",
       "    <tr>\n",
       "      <th>3</th>\n",
       "      <td>4</td>\n",
       "      <td>Waiting to Exhale</td>\n",
       "      <td>Comedy|Drama|Romance</td>\n",
       "    </tr>\n",
       "    <tr>\n",
       "      <th>4</th>\n",
       "      <td>5</td>\n",
       "      <td>Father of the Bride Part II</td>\n",
       "      <td>Comedy</td>\n",
       "    </tr>\n",
       "  </tbody>\n",
       "</table>\n",
       "</div>"
      ],
      "text/plain": [
       "   movieId                         title  \\\n",
       "0        1                    Toy Story    \n",
       "1        2                      Jumanji    \n",
       "2        3             Grumpier Old Men    \n",
       "3        4            Waiting to Exhale    \n",
       "4        5  Father of the Bride Part II    \n",
       "\n",
       "                                        genres  \n",
       "0  Adventure|Animation|Children|Comedy|Fantasy  \n",
       "1                   Adventure|Children|Fantasy  \n",
       "2                               Comedy|Romance  \n",
       "3                         Comedy|Drama|Romance  \n",
       "4                                       Comedy  "
      ]
     },
     "execution_count": 2,
     "metadata": {},
     "output_type": "execute_result"
    }
   ],
   "source": [
    "corpus = pd.read_csv(\"data/movies.csv\")\n",
    "query_list = ['toy story', 'the lion king','alladin','beauty and the best','cinderella','little mermaid','hercules']\n",
    "corpus.loc[:,\"title\"] = corpus.title.apply(lambda t : re.sub(r'\\([^)]*\\)',\"\", t))\n",
    "\n",
    "corpus.head()"
   ]
  },
  {
   "cell_type": "markdown",
   "metadata": {},
   "source": [
    "#### Criar as dtms"
   ]
  },
  {
   "cell_type": "code",
   "execution_count": 3,
   "metadata": {},
   "outputs": [],
   "source": [
    "vectorizer = CountVectorizer()\n",
    "vectorizer.fit(corpus.title)\n",
    "X = vectorizer.transform(corpus.title)\n",
    "x = vectorizer.transform(query_list)"
   ]
  },
  {
   "cell_type": "markdown",
   "metadata": {},
   "source": [
    "#### Implementar o algorítimo"
   ]
  },
  {
   "cell_type": "code",
   "execution_count": 4,
   "metadata": {},
   "outputs": [],
   "source": [
    "c = 2\n",
    "m = np.mean(X, 0) + 0.0000000001 # somar um numero pequeno para evitar divisões por zero\n",
    "N = x.shape[0]\n",
    "xij = x.toarray()\n",
    "\n",
    "alpha = c * m\n",
    "beta = c * (1 - m)\n",
    "alpha_t = alpha + np.sum(xij, 0)\n",
    "beta_t = beta + N - np.sum(xij, 0)\n",
    "nc = np.sum(np.log(alpha + beta) - np.log(alpha + beta +N) + np.log(beta_t) - np.log(beta),1)\n",
    "q = np.log(alpha_t) - np.log(alpha) - np.log(beta_t) + np.log(beta)"
   ]
  },
  {
   "cell_type": "markdown",
   "metadata": {},
   "source": [
    "#### Calcular o score"
   ]
  },
  {
   "cell_type": "code",
   "execution_count": 5,
   "metadata": {},
   "outputs": [],
   "source": [
    "s = nc + np.sum(X.multiply(q),1)"
   ]
  },
  {
   "cell_type": "markdown",
   "metadata": {},
   "source": [
    "#### \"Planificar\" e organizar o score pelos melhores resultados"
   ]
  },
  {
   "cell_type": "code",
   "execution_count": 6,
   "metadata": {},
   "outputs": [],
   "source": [
    "s_flat = np.array(s).reshape((s.shape[0],))\n",
    "c_indexes=s_flat.argsort()[::-1][:20]"
   ]
  },
  {
   "cell_type": "markdown",
   "metadata": {},
   "source": [
    "#### Relacionar os resultados com o dataset original"
   ]
  },
  {
   "cell_type": "code",
   "execution_count": 7,
   "metadata": {},
   "outputs": [],
   "source": [
    "result = pd.DataFrame(corpus.iloc[c_indexes]['title'])\n",
    "result['score'] = s_flat[c_indexes]"
   ]
  },
  {
   "cell_type": "code",
   "execution_count": 8,
   "metadata": {},
   "outputs": [
    {
     "data": {
      "text/html": [
       "<div>\n",
       "<style scoped>\n",
       "    .dataframe tbody tr th:only-of-type {\n",
       "        vertical-align: middle;\n",
       "    }\n",
       "\n",
       "    .dataframe tbody tr th {\n",
       "        vertical-align: top;\n",
       "    }\n",
       "\n",
       "    .dataframe thead th {\n",
       "        text-align: right;\n",
       "    }\n",
       "</style>\n",
       "<table border=\"1\" class=\"dataframe\">\n",
       "  <thead>\n",
       "    <tr style=\"text-align: right;\">\n",
       "      <th></th>\n",
       "      <th>title</th>\n",
       "      <th>score</th>\n",
       "    </tr>\n",
       "  </thead>\n",
       "  <tbody>\n",
       "    <tr>\n",
       "      <th>1997</th>\n",
       "      <td>Little Mermaid, The</td>\n",
       "      <td>10.056046</td>\n",
       "    </tr>\n",
       "    <tr>\n",
       "      <th>360</th>\n",
       "      <td>Lion King, The</td>\n",
       "      <td>9.516822</td>\n",
       "    </tr>\n",
       "    <tr>\n",
       "      <th>0</th>\n",
       "      <td>Toy Story</td>\n",
       "      <td>8.917427</td>\n",
       "    </tr>\n",
       "    <tr>\n",
       "      <th>15401</th>\n",
       "      <td>Toy Story 3</td>\n",
       "      <td>8.917427</td>\n",
       "    </tr>\n",
       "    <tr>\n",
       "      <th>3027</th>\n",
       "      <td>Toy Story 2</td>\n",
       "      <td>8.917427</td>\n",
       "    </tr>\n",
       "    <tr>\n",
       "      <th>7960</th>\n",
       "      <td>Cinderella Story, A</td>\n",
       "      <td>8.917427</td>\n",
       "    </tr>\n",
       "    <tr>\n",
       "      <th>9398</th>\n",
       "      <td>Lion King 1½, The</td>\n",
       "      <td>8.012687</td>\n",
       "    </tr>\n",
       "    <tr>\n",
       "      <th>18252</th>\n",
       "      <td>Another Cinderella Story</td>\n",
       "      <td>7.412351</td>\n",
       "    </tr>\n",
       "    <tr>\n",
       "      <th>4473</th>\n",
       "      <td>Best of the Best</td>\n",
       "      <td>7.381584</td>\n",
       "    </tr>\n",
       "    <tr>\n",
       "      <th>4474</th>\n",
       "      <td>Best of the Best 2</td>\n",
       "      <td>7.381584</td>\n",
       "    </tr>\n",
       "    <tr>\n",
       "      <th>19335</th>\n",
       "      <td>Little Mermaid: Ariel's Beginning, The</td>\n",
       "      <td>7.047264</td>\n",
       "    </tr>\n",
       "    <tr>\n",
       "      <th>15368</th>\n",
       "      <td>Mermaid, The</td>\n",
       "      <td>6.912154</td>\n",
       "    </tr>\n",
       "    <tr>\n",
       "      <th>1515</th>\n",
       "      <td>Hercules</td>\n",
       "      <td>6.477258</td>\n",
       "    </tr>\n",
       "    <tr>\n",
       "      <th>23754</th>\n",
       "      <td>Hercules</td>\n",
       "      <td>6.477258</td>\n",
       "    </tr>\n",
       "    <tr>\n",
       "      <th>26654</th>\n",
       "      <td>Hercules</td>\n",
       "      <td>6.477258</td>\n",
       "    </tr>\n",
       "    <tr>\n",
       "      <th>23520</th>\n",
       "      <td>Cinderella</td>\n",
       "      <td>6.236234</td>\n",
       "    </tr>\n",
       "    <tr>\n",
       "      <th>23511</th>\n",
       "      <td>Cinderella</td>\n",
       "      <td>6.236234</td>\n",
       "    </tr>\n",
       "    <tr>\n",
       "      <th>13118</th>\n",
       "      <td>Cinderella</td>\n",
       "      <td>6.236234</td>\n",
       "    </tr>\n",
       "    <tr>\n",
       "      <th>1003</th>\n",
       "      <td>Cinderella</td>\n",
       "      <td>6.236234</td>\n",
       "    </tr>\n",
       "    <tr>\n",
       "      <th>27069</th>\n",
       "      <td>Cinderella</td>\n",
       "      <td>6.236234</td>\n",
       "    </tr>\n",
       "  </tbody>\n",
       "</table>\n",
       "</div>"
      ],
      "text/plain": [
       "                                         title      score\n",
       "1997                      Little Mermaid, The   10.056046\n",
       "360                            Lion King, The    9.516822\n",
       "0                                   Toy Story    8.917427\n",
       "15401                             Toy Story 3    8.917427\n",
       "3027                              Toy Story 2    8.917427\n",
       "7960                      Cinderella Story, A    8.917427\n",
       "9398                        Lion King 1½, The    8.012687\n",
       "18252                Another Cinderella Story    7.412351\n",
       "4473                         Best of the Best    7.381584\n",
       "4474                       Best of the Best 2    7.381584\n",
       "19335  Little Mermaid: Ariel's Beginning, The    7.047264\n",
       "15368                           Mermaid, The     6.912154\n",
       "1515                                 Hercules    6.477258\n",
       "23754                                Hercules    6.477258\n",
       "26654                                Hercules    6.477258\n",
       "23520                              Cinderella    6.236234\n",
       "23511                              Cinderella    6.236234\n",
       "13118                              Cinderella    6.236234\n",
       "1003                               Cinderella    6.236234\n",
       "27069                              Cinderella    6.236234"
      ]
     },
     "execution_count": 8,
     "metadata": {},
     "output_type": "execute_result"
    }
   ],
   "source": [
    "result"
   ]
  },
  {
   "cell_type": "code",
   "execution_count": null,
   "metadata": {},
   "outputs": [],
   "source": []
  }
 ],
 "metadata": {
  "kernelspec": {
   "display_name": "Python 3",
   "language": "python",
   "name": "python3"
  },
  "language_info": {
   "codemirror_mode": {
    "name": "ipython",
    "version": 3
   },
   "file_extension": ".py",
   "mimetype": "text/x-python",
   "name": "python",
   "nbconvert_exporter": "python",
   "pygments_lexer": "ipython3",
   "version": "3.7.3"
  }
 },
 "nbformat": 4,
 "nbformat_minor": 2
}
