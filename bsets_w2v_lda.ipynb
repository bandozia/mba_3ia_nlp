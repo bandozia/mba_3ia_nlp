{
 "cells": [
  {
   "cell_type": "code",
   "execution_count": 1,
   "metadata": {},
   "outputs": [],
   "source": [
    "import pandas as pd\n",
    "import numpy as np\n",
    "import re\n",
    "from sklearn.feature_extraction.text import CountVectorizer"
   ]
  },
  {
   "cell_type": "markdown",
   "metadata": {},
   "source": [
    "## Implementação do algoritimo Bayesian Sets e consulta com 7 queries (etapas 1 e 2)"
   ]
  },
  {
   "cell_type": "markdown",
   "metadata": {},
   "source": [
    "#### Carregar e tratar os dados"
   ]
  },
  {
   "cell_type": "code",
   "execution_count": 2,
   "metadata": {},
   "outputs": [
    {
     "data": {
      "text/html": [
       "<div>\n",
       "<style scoped>\n",
       "    .dataframe tbody tr th:only-of-type {\n",
       "        vertical-align: middle;\n",
       "    }\n",
       "\n",
       "    .dataframe tbody tr th {\n",
       "        vertical-align: top;\n",
       "    }\n",
       "\n",
       "    .dataframe thead th {\n",
       "        text-align: right;\n",
       "    }\n",
       "</style>\n",
       "<table border=\"1\" class=\"dataframe\">\n",
       "  <thead>\n",
       "    <tr style=\"text-align: right;\">\n",
       "      <th></th>\n",
       "      <th>movieId</th>\n",
       "      <th>title</th>\n",
       "      <th>genres</th>\n",
       "    </tr>\n",
       "  </thead>\n",
       "  <tbody>\n",
       "    <tr>\n",
       "      <th>0</th>\n",
       "      <td>1</td>\n",
       "      <td>Toy Story</td>\n",
       "      <td>Adventure|Animation|Children|Comedy|Fantasy</td>\n",
       "    </tr>\n",
       "    <tr>\n",
       "      <th>1</th>\n",
       "      <td>2</td>\n",
       "      <td>Jumanji</td>\n",
       "      <td>Adventure|Children|Fantasy</td>\n",
       "    </tr>\n",
       "    <tr>\n",
       "      <th>2</th>\n",
       "      <td>3</td>\n",
       "      <td>Grumpier Old Men</td>\n",
       "      <td>Comedy|Romance</td>\n",
       "    </tr>\n",
       "    <tr>\n",
       "      <th>3</th>\n",
       "      <td>4</td>\n",
       "      <td>Waiting to Exhale</td>\n",
       "      <td>Comedy|Drama|Romance</td>\n",
       "    </tr>\n",
       "    <tr>\n",
       "      <th>4</th>\n",
       "      <td>5</td>\n",
       "      <td>Father of the Bride Part II</td>\n",
       "      <td>Comedy</td>\n",
       "    </tr>\n",
       "  </tbody>\n",
       "</table>\n",
       "</div>"
      ],
      "text/plain": [
       "   movieId                         title  \\\n",
       "0        1                    Toy Story    \n",
       "1        2                      Jumanji    \n",
       "2        3             Grumpier Old Men    \n",
       "3        4            Waiting to Exhale    \n",
       "4        5  Father of the Bride Part II    \n",
       "\n",
       "                                        genres  \n",
       "0  Adventure|Animation|Children|Comedy|Fantasy  \n",
       "1                   Adventure|Children|Fantasy  \n",
       "2                               Comedy|Romance  \n",
       "3                         Comedy|Drama|Romance  \n",
       "4                                       Comedy  "
      ]
     },
     "execution_count": 2,
     "metadata": {},
     "output_type": "execute_result"
    }
   ],
   "source": [
    "corpus = pd.read_csv(\"data/movies.csv\")\n",
    "query_list = ['toy story', 'the lion king','alladin','beauty and the best','cinderella','little mermaid','hercules']\n",
    "corpus.loc[:,\"title\"] = corpus.title.apply(lambda t : re.sub(r'\\([^)]*\\)',\"\", t))\n",
    "\n",
    "corpus.head()"
   ]
  },
  {
   "cell_type": "markdown",
   "metadata": {},
   "source": [
    "#### Criar as dtms"
   ]
  },
  {
   "cell_type": "code",
   "execution_count": 3,
   "metadata": {},
   "outputs": [],
   "source": [
    "vectorizer = CountVectorizer()\n",
    "vectorizer.fit(corpus.title)\n",
    "X = vectorizer.transform(corpus.title)\n",
    "x = vectorizer.transform(query_list)"
   ]
  },
  {
   "cell_type": "markdown",
   "metadata": {},
   "source": [
    "#### Implementar o algorítimo"
   ]
  },
  {
   "cell_type": "code",
   "execution_count": 4,
   "metadata": {},
   "outputs": [],
   "source": [
    "c = 2\n",
    "m = np.mean(X, 0) + 0.0000000001 # somar um numero pequeno para evitar divisões por zero\n",
    "N = x.shape[0]\n",
    "xij = x.toarray()\n",
    "\n",
    "alpha = c * m\n",
    "beta = c * (1 - m)\n",
    "alpha_t = alpha + np.sum(xij, 0)\n",
    "beta_t = beta + N - np.sum(xij, 0)\n",
    "nc = np.sum(np.log(alpha + beta) - np.log(alpha + beta +N) + np.log(beta_t) - np.log(beta),1)\n",
    "q = np.log(alpha_t) - np.log(alpha) - np.log(beta_t) + np.log(beta)"
   ]
  },
  {
   "cell_type": "markdown",
   "metadata": {},
   "source": [
    "#### Calcular o score"
   ]
  },
  {
   "cell_type": "code",
   "execution_count": 5,
   "metadata": {},
   "outputs": [],
   "source": [
    "s = nc + np.sum(X.multiply(q),1)"
   ]
  },
  {
   "cell_type": "markdown",
   "metadata": {},
   "source": [
    "#### \"Planificar\" e organizar o score pelos melhores resultados"
   ]
  },
  {
   "cell_type": "code",
   "execution_count": 6,
   "metadata": {},
   "outputs": [],
   "source": [
    "s_flat = np.array(s).reshape((s.shape[0],))\n",
    "c_indexes=s_flat.argsort()[::-1][:20]"
   ]
  },
  {
   "cell_type": "markdown",
   "metadata": {},
   "source": [
    "#### Relacionar os resultados com o dataset original"
   ]
  },
  {
   "cell_type": "code",
   "execution_count": 7,
   "metadata": {},
   "outputs": [],
   "source": [
    "result = pd.DataFrame(corpus.iloc[c_indexes]['title'])\n",
    "result['score'] = s_flat[c_indexes]"
   ]
  },
  {
   "cell_type": "code",
   "execution_count": 8,
   "metadata": {},
   "outputs": [
    {
     "data": {
      "text/html": [
       "<div>\n",
       "<style scoped>\n",
       "    .dataframe tbody tr th:only-of-type {\n",
       "        vertical-align: middle;\n",
       "    }\n",
       "\n",
       "    .dataframe tbody tr th {\n",
       "        vertical-align: top;\n",
       "    }\n",
       "\n",
       "    .dataframe thead th {\n",
       "        text-align: right;\n",
       "    }\n",
       "</style>\n",
       "<table border=\"1\" class=\"dataframe\">\n",
       "  <thead>\n",
       "    <tr style=\"text-align: right;\">\n",
       "      <th></th>\n",
       "      <th>title</th>\n",
       "      <th>score</th>\n",
       "    </tr>\n",
       "  </thead>\n",
       "  <tbody>\n",
       "    <tr>\n",
       "      <th>1997</th>\n",
       "      <td>Little Mermaid, The</td>\n",
       "      <td>10.056046</td>\n",
       "    </tr>\n",
       "    <tr>\n",
       "      <th>360</th>\n",
       "      <td>Lion King, The</td>\n",
       "      <td>9.516822</td>\n",
       "    </tr>\n",
       "    <tr>\n",
       "      <th>0</th>\n",
       "      <td>Toy Story</td>\n",
       "      <td>8.917427</td>\n",
       "    </tr>\n",
       "    <tr>\n",
       "      <th>15401</th>\n",
       "      <td>Toy Story 3</td>\n",
       "      <td>8.917427</td>\n",
       "    </tr>\n",
       "    <tr>\n",
       "      <th>3027</th>\n",
       "      <td>Toy Story 2</td>\n",
       "      <td>8.917427</td>\n",
       "    </tr>\n",
       "    <tr>\n",
       "      <th>7960</th>\n",
       "      <td>Cinderella Story, A</td>\n",
       "      <td>8.917427</td>\n",
       "    </tr>\n",
       "    <tr>\n",
       "      <th>9398</th>\n",
       "      <td>Lion King 1½, The</td>\n",
       "      <td>8.012687</td>\n",
       "    </tr>\n",
       "    <tr>\n",
       "      <th>18252</th>\n",
       "      <td>Another Cinderella Story</td>\n",
       "      <td>7.412351</td>\n",
       "    </tr>\n",
       "    <tr>\n",
       "      <th>4473</th>\n",
       "      <td>Best of the Best</td>\n",
       "      <td>7.381584</td>\n",
       "    </tr>\n",
       "    <tr>\n",
       "      <th>4474</th>\n",
       "      <td>Best of the Best 2</td>\n",
       "      <td>7.381584</td>\n",
       "    </tr>\n",
       "    <tr>\n",
       "      <th>19335</th>\n",
       "      <td>Little Mermaid: Ariel's Beginning, The</td>\n",
       "      <td>7.047264</td>\n",
       "    </tr>\n",
       "    <tr>\n",
       "      <th>15368</th>\n",
       "      <td>Mermaid, The</td>\n",
       "      <td>6.912154</td>\n",
       "    </tr>\n",
       "    <tr>\n",
       "      <th>1515</th>\n",
       "      <td>Hercules</td>\n",
       "      <td>6.477258</td>\n",
       "    </tr>\n",
       "    <tr>\n",
       "      <th>23754</th>\n",
       "      <td>Hercules</td>\n",
       "      <td>6.477258</td>\n",
       "    </tr>\n",
       "    <tr>\n",
       "      <th>26654</th>\n",
       "      <td>Hercules</td>\n",
       "      <td>6.477258</td>\n",
       "    </tr>\n",
       "    <tr>\n",
       "      <th>23520</th>\n",
       "      <td>Cinderella</td>\n",
       "      <td>6.236234</td>\n",
       "    </tr>\n",
       "    <tr>\n",
       "      <th>23511</th>\n",
       "      <td>Cinderella</td>\n",
       "      <td>6.236234</td>\n",
       "    </tr>\n",
       "    <tr>\n",
       "      <th>13118</th>\n",
       "      <td>Cinderella</td>\n",
       "      <td>6.236234</td>\n",
       "    </tr>\n",
       "    <tr>\n",
       "      <th>1003</th>\n",
       "      <td>Cinderella</td>\n",
       "      <td>6.236234</td>\n",
       "    </tr>\n",
       "    <tr>\n",
       "      <th>27069</th>\n",
       "      <td>Cinderella</td>\n",
       "      <td>6.236234</td>\n",
       "    </tr>\n",
       "  </tbody>\n",
       "</table>\n",
       "</div>"
      ],
      "text/plain": [
       "                                         title      score\n",
       "1997                      Little Mermaid, The   10.056046\n",
       "360                            Lion King, The    9.516822\n",
       "0                                   Toy Story    8.917427\n",
       "15401                             Toy Story 3    8.917427\n",
       "3027                              Toy Story 2    8.917427\n",
       "7960                      Cinderella Story, A    8.917427\n",
       "9398                        Lion King 1½, The    8.012687\n",
       "18252                Another Cinderella Story    7.412351\n",
       "4473                         Best of the Best    7.381584\n",
       "4474                       Best of the Best 2    7.381584\n",
       "19335  Little Mermaid: Ariel's Beginning, The    7.047264\n",
       "15368                           Mermaid, The     6.912154\n",
       "1515                                 Hercules    6.477258\n",
       "23754                                Hercules    6.477258\n",
       "26654                                Hercules    6.477258\n",
       "23520                              Cinderella    6.236234\n",
       "23511                              Cinderella    6.236234\n",
       "13118                              Cinderella    6.236234\n",
       "1003                               Cinderella    6.236234\n",
       "27069                              Cinderella    6.236234"
      ]
     },
     "execution_count": 8,
     "metadata": {},
     "output_type": "execute_result"
    }
   ],
   "source": [
    "result"
   ]
  },
  {
   "cell_type": "markdown",
   "metadata": {},
   "source": [
    "## Classificador binário utilizando word2vec (etapa 3)"
   ]
  },
  {
   "cell_type": "code",
   "execution_count": 2,
   "metadata": {},
   "outputs": [
    {
     "name": "stderr",
     "output_type": "stream",
     "text": [
      "/usr/lib/python3.7/site-packages/smart_open/ssh.py:34: UserWarning: paramiko missing, opening SSH/SCP/SFTP paths will be disabled.  `pip install paramiko` to suppress\n",
      "  warnings.warn('paramiko missing, opening SSH/SCP/SFTP paths will be disabled.  `pip install paramiko` to suppress')\n"
     ]
    }
   ],
   "source": [
    "from gensim.models import Word2Vec\n",
    "import random\n",
    "from sklearn.utils import shuffle\n",
    "from nltk.tokenize import word_tokenize\n",
    "from nltk.corpus import stopwords\n",
    "from sklearn.model_selection import train_test_split\n",
    "from sklearn.metrics import classification_report\n",
    "from sklearn import svm"
   ]
  },
  {
   "cell_type": "code",
   "execution_count": 6,
   "metadata": {},
   "outputs": [],
   "source": [
    "df = pd.read_csv(\"data/movie_review.csv\")"
   ]
  },
  {
   "cell_type": "code",
   "execution_count": 7,
   "metadata": {},
   "outputs": [],
   "source": [
    "df = df[[\"text\",\"tag\"]]\n",
    "df = shuffle(df)\n",
    "df = df.reset_index(drop=True)"
   ]
  },
  {
   "cell_type": "code",
   "execution_count": 8,
   "metadata": {},
   "outputs": [
    {
     "data": {
      "text/html": [
       "<div>\n",
       "<style scoped>\n",
       "    .dataframe tbody tr th:only-of-type {\n",
       "        vertical-align: middle;\n",
       "    }\n",
       "\n",
       "    .dataframe tbody tr th {\n",
       "        vertical-align: top;\n",
       "    }\n",
       "\n",
       "    .dataframe thead th {\n",
       "        text-align: right;\n",
       "    }\n",
       "</style>\n",
       "<table border=\"1\" class=\"dataframe\">\n",
       "  <thead>\n",
       "    <tr style=\"text-align: right;\">\n",
       "      <th></th>\n",
       "      <th>text</th>\n",
       "      <th>tag</th>\n",
       "    </tr>\n",
       "  </thead>\n",
       "  <tbody>\n",
       "    <tr>\n",
       "      <th>0</th>\n",
       "      <td>he has become an unquestioning weapon .</td>\n",
       "      <td>pos</td>\n",
       "    </tr>\n",
       "    <tr>\n",
       "      <th>1</th>\n",
       "      <td>they walk in unison and they only look forward .</td>\n",
       "      <td>pos</td>\n",
       "    </tr>\n",
       "    <tr>\n",
       "      <th>2</th>\n",
       "      <td>and then there's the special effects .</td>\n",
       "      <td>neg</td>\n",
       "    </tr>\n",
       "    <tr>\n",
       "      <th>3</th>\n",
       "      <td>it's likely that the film will miss a wide-spr...</td>\n",
       "      <td>pos</td>\n",
       "    </tr>\n",
       "    <tr>\n",
       "      <th>4</th>\n",
       "      <td>the initially interesting plot is done even mo...</td>\n",
       "      <td>neg</td>\n",
       "    </tr>\n",
       "  </tbody>\n",
       "</table>\n",
       "</div>"
      ],
      "text/plain": [
       "                                                text  tag\n",
       "0            he has become an unquestioning weapon .  pos\n",
       "1   they walk in unison and they only look forward .  pos\n",
       "2             and then there's the special effects .  neg\n",
       "3  it's likely that the film will miss a wide-spr...  pos\n",
       "4  the initially interesting plot is done even mo...  neg"
      ]
     },
     "execution_count": 8,
     "metadata": {},
     "output_type": "execute_result"
    }
   ],
   "source": [
    "df.head()"
   ]
  },
  {
   "cell_type": "code",
   "execution_count": 3,
   "metadata": {},
   "outputs": [],
   "source": [
    "def TreatText(data):    \n",
    "    stops = set(stopwords.words(\"english\"))  \n",
    "    data['text'] = [re.sub(\"[^a-zA-Z]\", \" \",data['text'][i]) for i in range(len(data))] \n",
    "    data['text'] = [word_tokenize(data['text'][i].lower()) for i in range(len(data))] \n",
    "    data['text'] = [[w for w in data['text'][i] if w not in stops]for i in range(len(data))]\n",
    "    return(data)"
   ]
  },
  {
   "cell_type": "code",
   "execution_count": 10,
   "metadata": {},
   "outputs": [],
   "source": [
    "df = TreatText(df)"
   ]
  },
  {
   "cell_type": "code",
   "execution_count": 11,
   "metadata": {},
   "outputs": [],
   "source": [
    "labels = np.array(df[\"tag\"])"
   ]
  },
  {
   "cell_type": "code",
   "execution_count": 12,
   "metadata": {},
   "outputs": [],
   "source": [
    "def meanVector(model,phrase):\n",
    "    vocab = model.wv.vocab\n",
    "    phrase = \" \".join(phrase)\n",
    "    phrase = [x for x in word_tokenize(phrase) if x in vocab]    \n",
    "    if phrase == []:\n",
    "        vetor = [0.0]*300 \n",
    "    else:         \n",
    "        vetor = np.mean([model[word] for word in phrase],axis=0)\n",
    "    return vetor"
   ]
  },
  {
   "cell_type": "code",
   "execution_count": 13,
   "metadata": {},
   "outputs": [],
   "source": [
    "def createFeatures(base,model): \n",
    "    features = [meanVector(model,base['text'][i])for i in range(len(base))]\n",
    "    return features"
   ]
  },
  {
   "cell_type": "code",
   "execution_count": 14,
   "metadata": {},
   "outputs": [],
   "source": [
    "model_skip = Word2Vec(df[\"text\"], sg=1, min_count=10, size = 300, window=4, workers=8)\n",
    "model_cbow = Word2Vec(df[\"text\"], sg=0, min_count=10, size = 300, window=4, workers=8)   "
   ]
  },
  {
   "cell_type": "code",
   "execution_count": 15,
   "metadata": {},
   "outputs": [
    {
     "name": "stderr",
     "output_type": "stream",
     "text": [
      "/usr/lib/python3.7/site-packages/ipykernel_launcher.py:8: DeprecationWarning: Call to deprecated `__getitem__` (Method will be removed in 4.0.0, use self.wv.__getitem__() instead).\n",
      "  \n"
     ]
    }
   ],
   "source": [
    "df_skip = createFeatures(df, model_skip)\n",
    "df_cbow = createFeatures(df, model_cbow)"
   ]
  },
  {
   "cell_type": "code",
   "execution_count": 16,
   "metadata": {},
   "outputs": [],
   "source": [
    "def train_test(base_df,limit):\n",
    "    X_train, X_test, y_train, y_test = train_test_split(base_df[0:limit], labels[0:limit], test_size=0.3, random_state=109)\n",
    "    clf = svm.SVC(kernel=\"linear\")\n",
    "    clf.fit(X_train, y_train)\n",
    "    y_pred = clf.predict(X_test)\n",
    "    return y_test,y_pred   "
   ]
  },
  {
   "cell_type": "code",
   "execution_count": 23,
   "metadata": {},
   "outputs": [],
   "source": [
    "sg_test,sg_pred = train_test(df_skip,5000)\n",
    "cb_test,cb_pred = train_test(df_cbow,5000)"
   ]
  },
  {
   "cell_type": "markdown",
   "metadata": {},
   "source": [
    "#### Resultado com skipgram"
   ]
  },
  {
   "cell_type": "code",
   "execution_count": 24,
   "metadata": {},
   "outputs": [
    {
     "name": "stdout",
     "output_type": "stream",
     "text": [
      "              precision    recall  f1-score   support\n",
      "\n",
      "         neg       0.60      0.48      0.53       730\n",
      "         pos       0.59      0.70      0.64       770\n",
      "\n",
      "   micro avg       0.59      0.59      0.59      1500\n",
      "   macro avg       0.59      0.59      0.59      1500\n",
      "weighted avg       0.59      0.59      0.59      1500\n",
      "\n"
     ]
    }
   ],
   "source": [
    "print(classification_report(sg_test,sg_pred))"
   ]
  },
  {
   "cell_type": "markdown",
   "metadata": {},
   "source": [
    "#### Resultado com cbow"
   ]
  },
  {
   "cell_type": "code",
   "execution_count": 25,
   "metadata": {},
   "outputs": [
    {
     "name": "stdout",
     "output_type": "stream",
     "text": [
      "              precision    recall  f1-score   support\n",
      "\n",
      "         neg       0.56      0.37      0.45       730\n",
      "         pos       0.55      0.73      0.63       770\n",
      "\n",
      "   micro avg       0.55      0.55      0.55      1500\n",
      "   macro avg       0.56      0.55      0.54      1500\n",
      "weighted avg       0.56      0.55      0.54      1500\n",
      "\n"
     ]
    }
   ],
   "source": [
    "print(classification_report(cb_test,cb_pred))"
   ]
  },
  {
   "cell_type": "markdown",
   "metadata": {},
   "source": [
    "##### O f1-score com skip-gram foi superior para as duas classes."
   ]
  },
  {
   "cell_type": "markdown",
   "metadata": {},
   "source": [
    "### Execução do algoritimo LDA no mesmo dataset, utilizando 2 tópicos. (etapa 4)"
   ]
  },
  {
   "cell_type": "code",
   "execution_count": 4,
   "metadata": {},
   "outputs": [],
   "source": [
    "from gensim.corpora.dictionary import Dictionary\n",
    "from gensim.models import LdaModel"
   ]
  },
  {
   "cell_type": "code",
   "execution_count": 5,
   "metadata": {},
   "outputs": [],
   "source": [
    "df = pd.read_csv(\"data/movie_review.csv\")\n",
    "df = df[[\"text\",\"tag\"]]\n",
    "df = shuffle(df)\n",
    "df = df.reset_index(drop=True)"
   ]
  },
  {
   "cell_type": "code",
   "execution_count": 7,
   "metadata": {},
   "outputs": [],
   "source": [
    "labels = np.array(df[\"tag\"])"
   ]
  },
  {
   "cell_type": "code",
   "execution_count": 6,
   "metadata": {},
   "outputs": [],
   "source": [
    "df = TreatText(df)"
   ]
  },
  {
   "cell_type": "code",
   "execution_count": 8,
   "metadata": {},
   "outputs": [],
   "source": [
    "train_text, test_text, labels_train, labels_test = train_test_split(df, labels, test_size=0.3)"
   ]
  },
  {
   "cell_type": "code",
   "execution_count": 10,
   "metadata": {},
   "outputs": [],
   "source": [
    "common_dic = Dictionary(train_text.text)\n",
    "common_corpus = [common_dic.doc2bow(t) for t in train_text.text]"
   ]
  },
  {
   "cell_type": "code",
   "execution_count": 11,
   "metadata": {},
   "outputs": [],
   "source": [
    "test_corpus = [common_dic.doc2bow(t) for t in test_text.text]"
   ]
  },
  {
   "cell_type": "code",
   "execution_count": 12,
   "metadata": {},
   "outputs": [],
   "source": [
    "lda = LdaModel(common_corpus, num_topics=2)"
   ]
  },
  {
   "cell_type": "code",
   "execution_count": 13,
   "metadata": {},
   "outputs": [],
   "source": [
    "cdf = pd.DataFrame(test_text[\"tag\"])\n",
    "cdf[\"lda_topic\"] = [max(lda[x],key=lambda item: item[1])[0] for x in test_corpus]\n",
    "cdf[\"lda_prob\"] = [max(lda[x],key=lambda item: item[1])[1] for x in test_corpus]"
   ]
  },
  {
   "cell_type": "code",
   "execution_count": 15,
   "metadata": {},
   "outputs": [
    {
     "data": {
      "text/html": [
       "<div>\n",
       "<style scoped>\n",
       "    .dataframe tbody tr th:only-of-type {\n",
       "        vertical-align: middle;\n",
       "    }\n",
       "\n",
       "    .dataframe tbody tr th {\n",
       "        vertical-align: top;\n",
       "    }\n",
       "\n",
       "    .dataframe thead th {\n",
       "        text-align: right;\n",
       "    }\n",
       "</style>\n",
       "<table border=\"1\" class=\"dataframe\">\n",
       "  <thead>\n",
       "    <tr style=\"text-align: right;\">\n",
       "      <th></th>\n",
       "      <th>tag</th>\n",
       "      <th>lda_topic</th>\n",
       "      <th>lda_prob</th>\n",
       "    </tr>\n",
       "  </thead>\n",
       "  <tbody>\n",
       "    <tr>\n",
       "      <th>62205</th>\n",
       "      <td>neg</td>\n",
       "      <td>0</td>\n",
       "      <td>0.728866</td>\n",
       "    </tr>\n",
       "    <tr>\n",
       "      <th>23761</th>\n",
       "      <td>neg</td>\n",
       "      <td>1</td>\n",
       "      <td>0.732850</td>\n",
       "    </tr>\n",
       "    <tr>\n",
       "      <th>5259</th>\n",
       "      <td>pos</td>\n",
       "      <td>0</td>\n",
       "      <td>0.551229</td>\n",
       "    </tr>\n",
       "    <tr>\n",
       "      <th>34027</th>\n",
       "      <td>pos</td>\n",
       "      <td>1</td>\n",
       "      <td>0.868772</td>\n",
       "    </tr>\n",
       "    <tr>\n",
       "      <th>50988</th>\n",
       "      <td>neg</td>\n",
       "      <td>0</td>\n",
       "      <td>0.736056</td>\n",
       "    </tr>\n",
       "    <tr>\n",
       "      <th>60517</th>\n",
       "      <td>pos</td>\n",
       "      <td>0</td>\n",
       "      <td>0.705100</td>\n",
       "    </tr>\n",
       "    <tr>\n",
       "      <th>2833</th>\n",
       "      <td>neg</td>\n",
       "      <td>0</td>\n",
       "      <td>0.876939</td>\n",
       "    </tr>\n",
       "    <tr>\n",
       "      <th>34661</th>\n",
       "      <td>pos</td>\n",
       "      <td>1</td>\n",
       "      <td>0.737640</td>\n",
       "    </tr>\n",
       "    <tr>\n",
       "      <th>981</th>\n",
       "      <td>pos</td>\n",
       "      <td>0</td>\n",
       "      <td>0.721695</td>\n",
       "    </tr>\n",
       "    <tr>\n",
       "      <th>20954</th>\n",
       "      <td>pos</td>\n",
       "      <td>0</td>\n",
       "      <td>0.669952</td>\n",
       "    </tr>\n",
       "  </tbody>\n",
       "</table>\n",
       "</div>"
      ],
      "text/plain": [
       "       tag  lda_topic  lda_prob\n",
       "62205  neg          0  0.728866\n",
       "23761  neg          1  0.732850\n",
       "5259   pos          0  0.551229\n",
       "34027  pos          1  0.868772\n",
       "50988  neg          0  0.736056\n",
       "60517  pos          0  0.705100\n",
       "2833   neg          0  0.876939\n",
       "34661  pos          1  0.737640\n",
       "981    pos          0  0.721695\n",
       "20954  pos          0  0.669952"
      ]
     },
     "execution_count": 15,
     "metadata": {},
     "output_type": "execute_result"
    }
   ],
   "source": [
    "cdf.head(10)"
   ]
  },
  {
   "cell_type": "code",
   "execution_count": 23,
   "metadata": {},
   "outputs": [
    {
     "name": "stdout",
     "output_type": "stream",
     "text": [
      "Positivos cujo tópico encotrado foi 0: \n",
      "5987 (0.30835393489905233)\n",
      "Positivos cujo tópico encotrado foi 1: \n",
      "3990 (0.20550061804697156)\n",
      "Negativos cujo tópico encotrado foi 0: \n",
      "6026 (0.3103625875566543)\n",
      "Negativos cujo tópico encotrado foi 1: \n",
      "3413 (0.1757828594973218)\n"
     ]
    }
   ],
   "source": [
    "pos_0 = len(cdf[(cdf.tag == \"pos\") & (cdf.lda_topic == 0)])\n",
    "pos_1 = len(cdf[(cdf.tag == \"pos\") & (cdf.lda_topic == 1)])\n",
    "neg_0 = len(cdf[(cdf.tag == \"neg\") & (cdf.lda_topic == 0)])\n",
    "neg_1 = len(cdf[(cdf.tag == \"neg\") & (cdf.lda_topic == 1)])\n",
    "t = len(cdf)\n",
    "            \n",
    "print(\"Positivos cujo tópico encotrado foi 0: \")\n",
    "print(\"%s (%s)\" % (pos_0, pos_0 / t))\n",
    "print(\"Positivos cujo tópico encotrado foi 1: \")\n",
    "print(\"%s (%s)\" % (pos_1, pos_1 / t))\n",
    "print(\"Negativos cujo tópico encotrado foi 0: \")\n",
    "print(\"%s (%s)\" % (neg_0, neg_0 / t))\n",
    "print(\"Negativos cujo tópico encotrado foi 1: \")\n",
    "print(\"%s (%s)\" % (neg_1, neg_1 / t))"
   ]
  },
  {
   "cell_type": "markdown",
   "metadata": {},
   "source": [
    "### Tanto reviews rotuladas como positivas, quanto negativas tiveram maior incidência no tópico 0."
   ]
  },
  {
   "cell_type": "markdown",
   "metadata": {},
   "source": [
    "Isso indica ou que o algorítimo nao foi implementado corretamente ou que o LDA não é adequado para esta tarefa. Considerando que tanto as reviews positivas quanto as negativas são sobre o mesmo tópico, filmes, é bastante provável que o LDA não seja o algorítimo mais indicado para fazer a segmentação binária destes dados."
   ]
  },
  {
   "cell_type": "code",
   "execution_count": null,
   "metadata": {},
   "outputs": [],
   "source": []
  }
 ],
 "metadata": {
  "kernelspec": {
   "display_name": "Python 3",
   "language": "python",
   "name": "python3"
  },
  "language_info": {
   "codemirror_mode": {
    "name": "ipython",
    "version": 3
   },
   "file_extension": ".py",
   "mimetype": "text/x-python",
   "name": "python",
   "nbconvert_exporter": "python",
   "pygments_lexer": "ipython3",
   "version": "3.7.3"
  }
 },
 "nbformat": 4,
 "nbformat_minor": 2
}
